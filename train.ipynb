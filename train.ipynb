{
 "cells": [
  {
   "cell_type": "code",
   "execution_count": 2,
   "id": "87d46744",
   "metadata": {},
   "outputs": [
    {
     "name": "stdout",
     "output_type": "stream",
     "text": [
      "Epoch [10/100], Loss: 13.3877\n",
      "Epoch [20/100], Loss: 9.0276\n",
      "Epoch [30/100], Loss: 6.0943\n",
      "Epoch [40/100], Loss: 4.1190\n",
      "Epoch [50/100], Loss: 2.7876\n",
      "Epoch [60/100], Loss: 1.8893\n",
      "Epoch [70/100], Loss: 1.2828\n",
      "Epoch [80/100], Loss: 0.8729\n",
      "Epoch [90/100], Loss: 0.5955\n",
      "Epoch [100/100], Loss: 0.4078\n"
     ]
    }
   ],
   "source": [
    "import torch\n",
    "import torch.nn as nn\n",
    "import torch.optim as optim\n",
    "\n",
    "# Generate synthetic data\n",
    "def generate_data(num_samples=1000):\n",
    "    # Generate random input samples of dimension 2\n",
    "    X = torch.randn(num_samples, 2)\n",
    "    # Generate targets using a simple linear function + some noise for each dimension\n",
    "    y = 2 * X[:, 0] + 3 * X[:, 1] + 4 + 0.1 * torch.randn(num_samples)\n",
    "    return X, y.view(-1, 1)\n",
    "\n",
    "X_train, y_train = generate_data()\n",
    "\n",
    "# Define a simple feed-forward neural network\n",
    "class SimpleNN(nn.Module):\n",
    "    def __init__(self):\n",
    "        super(SimpleNN, self).__init__()\n",
    "        self.fc = nn.Linear(2, 1)  # Adjusted input dimension to 2\n",
    "\n",
    "    def forward(self, x):\n",
    "        return self.fc(x)\n",
    "\n",
    "# Initialize model, loss, and optimizer\n",
    "model = SimpleNN()\n",
    "criterion = nn.MSELoss()\n",
    "optimizer = optim.SGD(model.parameters(), lr=0.01)\n",
    "\n",
    "# Train the model\n",
    "epochs = 100\n",
    "for epoch in range(epochs):\n",
    "    # Forward pass\n",
    "    outputs = model(X_train)\n",
    "    loss = criterion(outputs, y_train)\n",
    "    \n",
    "    # Backward pass and optimization\n",
    "    optimizer.zero_grad()\n",
    "    loss.backward()\n",
    "    optimizer.step()\n",
    "\n",
    "    if (epoch+1) % 10 == 0:\n",
    "        print(f'Epoch [{epoch+1}/{epochs}], Loss: {loss.item():.4f}')\n",
    "\n",
    "# Export the trained model to ONNX format\n",
    "# torch.onnx.export(model,               # model being run\n",
    "#                   X_train,             # model input (or a tuple for multiple inputs)\n",
    "#                   \"simple_model.onnx\", # where to save the model (can be a file or file-like object)\n",
    "#                   export_params=True)  # store the trained parameter weights inside the model file\n",
    "\n",
    "dynamic_axes = {'input': {0: 'batch_size'}, 'output': {0: 'batch_size'}}\n",
    "torch.onnx.export(model, \n",
    "                  X_train,\n",
    "                  \"simple_model.onnx\",\n",
    "                  export_params=True,\n",
    "                  input_names=['input'],\n",
    "                  output_names=['output'],\n",
    "                  dynamic_axes=dynamic_axes)"
   ]
  },
  {
   "cell_type": "code",
   "execution_count": 6,
   "id": "cdadbd06",
   "metadata": {},
   "outputs": [
    {
     "name": "stdout",
     "output_type": "stream",
     "text": [
      "Epoch [10/100], Loss: 13.7836\n",
      "Epoch [20/100], Loss: 8.4760\n",
      "Epoch [30/100], Loss: 5.1031\n",
      "Epoch [40/100], Loss: 3.0261\n",
      "Epoch [50/100], Loss: 2.0223\n",
      "Epoch [60/100], Loss: 1.7083\n",
      "Epoch [70/100], Loss: 1.6272\n",
      "Epoch [80/100], Loss: 1.6046\n",
      "Epoch [90/100], Loss: 1.5974\n",
      "Epoch [100/100], Loss: 1.5950\n"
     ]
    }
   ],
   "source": [
    "import torch\n",
    "import torch.nn as nn\n",
    "import torch.optim as optim\n",
    "import numpy as np  # We'll use numpy to generate integer data\n",
    "\n",
    "# Generate synthetic data\n",
    "# Generate synthetic data\n",
    "def generate_data(num_samples=1000):\n",
    "    # Generate random integer input samples for seq_input and userinfo in a smaller range, say -1000 to 1000\n",
    "    seq_input = torch.tensor(np.random.randint(-100, 100, size=(num_samples, 16)), dtype=torch.int32)\n",
    "    userinfo = torch.tensor(np.random.randint(-100, 100, size=(num_samples, 2)), dtype=torch.int32)\n",
    "    \n",
    "    # Generate targets as random classes from 0 to 4\n",
    "    y = torch.randint(0, 5, (num_samples,)).long()\n",
    "    return seq_input, userinfo, y\n",
    "\n",
    "\n",
    "seq_input_train, userinfo_train, y_train = generate_data()\n",
    "\n",
    "# Define a simple feed-forward neural network with dual input\n",
    "class DualInputNN(nn.Module):\n",
    "    def __init__(self):\n",
    "        super(DualInputNN, self).__init__()\n",
    "        self.fc1 = nn.Linear(16, 8)  # seq_input\n",
    "        self.fc2 = nn.Linear(2, 2)   # userinfo\n",
    "        self.fc3 = nn.Linear(10, 5)  # combine seq_input and userinfo\n",
    "\n",
    "    def forward(self, seq_input, userinfo):\n",
    "        # Convert the integer inputs to float for processing in the model\n",
    "        x1 = self.fc1(seq_input.float())\n",
    "        x2 = self.fc2(userinfo.float())\n",
    "        x = torch.cat((x1, x2), dim=1)\n",
    "        return self.fc3(x)\n",
    "\n",
    "# Initialize model, loss, and optimizer\n",
    "model = DualInputNN()\n",
    "criterion = nn.CrossEntropyLoss()  # Modified loss for classification\n",
    "optimizer = optim.SGD(model.parameters(), lr=0.001)\n",
    "\n",
    "# Train the model\n",
    "epochs = 100\n",
    "for epoch in range(epochs):\n",
    "    # Forward pass\n",
    "    outputs = model(seq_input_train, userinfo_train)\n",
    "    loss = criterion(outputs, y_train)\n",
    "    \n",
    "    # Backward pass and optimization\n",
    "    optimizer.zero_grad()\n",
    "    loss.backward()\n",
    "    optimizer.step()\n",
    "\n",
    "    if (epoch+1) % 10 == 0:\n",
    "        print(f'Epoch [{epoch+1}/{epochs}], Loss: {loss.item():.4f}')\n",
    "\n",
    "# Export the trained model to ONNX format\n",
    "dynamic_axes = {\n",
    "    'seq_input': {0: 'batch_size'},\n",
    "    'userinfo': {0: 'batch_size'},\n",
    "    'output': {0: 'batch_size'}\n",
    "}\n",
    "torch.onnx.export(\n",
    "    model, \n",
    "    (seq_input_train, userinfo_train),\n",
    "    \"dual_input_model.onnx\",\n",
    "    export_params=True,\n",
    "    input_names=['seq_input', 'userinfo'],\n",
    "    output_names=['output'],\n",
    "    dynamic_axes=dynamic_axes\n",
    ")\n"
   ]
  },
  {
   "cell_type": "code",
   "execution_count": 9,
   "id": "5e8a168e",
   "metadata": {},
   "outputs": [
    {
     "data": {
      "text/plain": [
       "torch.Size([1000, 2])"
      ]
     },
     "execution_count": 9,
     "metadata": {},
     "output_type": "execute_result"
    }
   ],
   "source": [
    "seq_input = numpy.array([0, 0, 0, 0, 0, 0, 0, 0, 0, 0, 0, 0, 0, 2, 2, 3]).reshape((1,16))\n",
    "model(seq_input_train, userinfo_train)"
   ]
  },
  {
   "cell_type": "code",
   "execution_count": 12,
   "id": "b5c13ea4",
   "metadata": {},
   "outputs": [],
   "source": [
    "seq_input = np.array([0, 0, 0, 0, 0, 0, 0, 0, 0, 0, 0, 0, 0, 2, 2, 3]).reshape((1,16))\n",
    "userinfo = np.array([1, 1]).reshape((1,2))"
   ]
  },
  {
   "cell_type": "code",
   "execution_count": 14,
   "id": "448b2573",
   "metadata": {},
   "outputs": [
    {
     "data": {
      "text/plain": [
       "tensor([[0.2665, 0.0793, 0.2042, 0.1507, 0.0810]], grad_fn=<AddmmBackward0>)"
      ]
     },
     "execution_count": 14,
     "metadata": {},
     "output_type": "execute_result"
    }
   ],
   "source": [
    "model(torch.tensor(seq_input), torch.tensor(userinfo))"
   ]
  }
 ],
 "metadata": {
  "kernelspec": {
   "display_name": "Python 3 (ipykernel)",
   "language": "python",
   "name": "python3"
  },
  "language_info": {
   "codemirror_mode": {
    "name": "ipython",
    "version": 3
   },
   "file_extension": ".py",
   "mimetype": "text/x-python",
   "name": "python",
   "nbconvert_exporter": "python",
   "pygments_lexer": "ipython3",
   "version": "3.10.13"
  }
 },
 "nbformat": 4,
 "nbformat_minor": 5
}
